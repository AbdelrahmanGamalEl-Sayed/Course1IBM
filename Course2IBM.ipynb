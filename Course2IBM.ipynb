{
 "cells": [
  {
   "cell_type": "markdown",
   "metadata": {},
   "source": [
    "<center>\n",
    "    <img src=\"https://cf-courses-data.s3.us.cloud-object-storage.appdomain.cloud/IBMDeveloperSkillsNetwork-DS0105EN-SkillsNetwork/labs/Module2/images/SN_web_lightmode.png\" width=\"300\" alt=\"cognitiveclass.ai logo\">\n",
    "</center>\n"
   ]
  },
  {
   "cell_type": "markdown",
   "metadata": {},
   "source": [
    "#### Add your code below following the instructions given in the course\n"
   ]
  },
  {
   "cell_type": "markdown",
   "metadata": {},
   "source": [
    "# Data Science Tools and Ecosystem"
   ]
  },
  {
   "cell_type": "markdown",
   "metadata": {},
   "source": [
    "# In this notebook, Data Science Tools and Ecosystem are summarized."
   ]
  },
  {
   "cell_type": "markdown",
   "metadata": {},
   "source": [
    "# Objectives:\n",
    "\n",
    "# List popular languages for Data Science\n",
    "# Evaluate arithmetic expressions in Python\n",
    "# Convert units of measurement (minutes to hours)\n",
    "# Create and format tables in Markdown\n",
    "# Add comments to code cells for better readability"
   ]
  },
  {
   "cell_type": "code",
   "execution_count": 2,
   "metadata": {
    "tags": []
   },
   "outputs": [
    {
     "name": "stdout",
     "output_type": "stream",
     "text": [
      "Some of the popular languages that Data Scientists use are:\n",
      "- Python\n",
      "- R\n",
      "- SQL\n"
     ]
    }
   ],
   "source": [
    "data_science_languages = [\n",
    "    \"Python\",\n",
    "    \"R\",\n",
    "    \"SQL\"\n",
    "]\n",
    "\n",
    "print(\"Some of the popular languages that Data Scientists use are:\")\n",
    "for language in data_science_languages:\n",
    "    print(f\"- {language}\")"
   ]
  },
  {
   "cell_type": "code",
   "execution_count": 3,
   "metadata": {
    "tags": []
   },
   "outputs": [
    {
     "name": "stdout",
     "output_type": "stream",
     "text": [
      "Some of the commonly used libraries used by Data Scientists include:\n",
      "1. NumPy\n",
      "2. Pandas\n",
      "3. Scikit-learn\n"
     ]
    }
   ],
   "source": [
    "print(\"Some of the commonly used libraries used by Data Scientists include:\")\n",
    "\n",
    "data_science_libraries = [\n",
    "    \"NumPy\",\n",
    "    \"Pandas\",\n",
    "    \"Scikit-learn\"\n",
    "]\n",
    "\n",
    "for i, library in enumerate(data_science_libraries, start=1):\n",
    "    print(f\"{i}. {library}\")"
   ]
  },
  {
   "cell_type": "code",
   "execution_count": 4,
   "metadata": {
    "tags": []
   },
   "outputs": [
    {
     "name": "stdout",
     "output_type": "stream",
     "text": [
      "| Data Science Tools |\n",
      "|---|---|\n",
      "| Jupyter Notebook |\n",
      "| Google Colab |\n",
      "| Kaggle Kernels |\n"
     ]
    }
   ],
   "source": [
    "tools = [\n",
    "    \"Jupyter Notebook\",\n",
    "    \"Google Colab\",\n",
    "    \"Kaggle Kernels\"\n",
    "]\n",
    "\n",
    "print(\"| Data Science Tools |\")\n",
    "print(\"|---|---|\")\n",
    "\n",
    "for tool in tools:\n",
    "    print(f\"| {tool} |\")"
   ]
  },
  {
   "cell_type": "markdown",
   "metadata": {},
   "source": [
    "# Below are a few examples of evaluating arithmetic expressions in Python"
   ]
  },
  {
   "cell_type": "code",
   "execution_count": 5,
   "metadata": {
    "tags": []
   },
   "outputs": [
    {
     "name": "stdout",
     "output_type": "stream",
     "text": [
      "17\n"
     ]
    }
   ],
   "source": [
    "result = (3 * 4) + 5\n",
    "print(result)"
   ]
  },
  {
   "cell_type": "code",
   "execution_count": 6,
   "metadata": {
    "tags": []
   },
   "outputs": [
    {
     "name": "stdout",
     "output_type": "stream",
     "text": [
      "3.3333333333333335\n"
     ]
    }
   ],
   "source": [
    "hours = 200 / 60\n",
    "print(hours)"
   ]
  },
  {
   "cell_type": "markdown",
   "metadata": {},
   "source": [
    "## Author\n",
    "\n",
    "Abdelrahman Gamal El-Sayed Abdelsalam"
   ]
  },
  {
   "cell_type": "code",
   "execution_count": null,
   "metadata": {},
   "outputs": [],
   "source": []
  }
 ],
 "metadata": {
  "kernelspec": {
   "display_name": "Python",
   "language": "python",
   "name": "conda-env-python-py"
  },
  "language_info": {
   "codemirror_mode": {
    "name": "ipython",
    "version": 3
   },
   "file_extension": ".py",
   "mimetype": "text/x-python",
   "name": "python",
   "nbconvert_exporter": "python",
   "pygments_lexer": "ipython3",
   "version": "3.7.12"
  }
 },
 "nbformat": 4,
 "nbformat_minor": 4
}
